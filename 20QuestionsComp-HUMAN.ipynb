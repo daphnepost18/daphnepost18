{
 "cells": [
  {
   "cell_type": "markdown",
   "metadata": {},
   "source": [
    "## Code"
   ]
  },
  {
   "cell_type": "code",
   "execution_count": 1,
   "metadata": {},
   "outputs": [],
   "source": [
    "%load_ext ipython_sparql_pandas"
   ]
  },
  {
   "cell_type": "code",
   "execution_count": 2,
   "metadata": {},
   "outputs": [],
   "source": [
    "from SPARQLWrapper import SPARQLWrapper, JSON\n",
    "from random import randint\n",
    "sparql = SPARQLWrapper('http://MacBook-Air-van-Daphne.local:7200/repositories/statements')\n",
    "sparql.setReturnFormat(JSON)"
   ]
  },
  {
   "cell_type": "code",
   "execution_count": 3,
   "metadata": {},
   "outputs": [],
   "source": [
    "#from the query results extract a list that contains the counts after splitting on certain attributes\n",
    "PosAttr=['?s <http://www.w3.org/1999/02/22-rdf-syntax-ns#type> <http://example.com/popularEntity> .']\n",
    "NegAttr=[]\n",
    "AttrHistory = ['<http://www.w3.org/1999/02/22-rdf-syntax-ns#type> <http://example.com/popularEntity>']\n",
    "\n",
    "def extractCountAndAttr(result):\n",
    "    number = []\n",
    "    listOfObj = []\n",
    "    listOfPred = []\n",
    "    listOfCompQ = []\n",
    "    for attr in result[\"results\"][\"bindings\"]:\n",
    "        listOfObj.append(attr['o'])\n",
    "        listOfPred.append(attr['p'])\n",
    "        listOfCompQ.append(attr['isCompound'])\n",
    "    return(listOfObj,listOfPred,listOfCompQ)\n",
    "\n",
    "def generateQuestion(listOfPred, listOfObj, listOfCompQ, index):\n",
    "    flag = True\n",
    "    \n",
    "    if listOfCompQ[index]['value'] == 'false':  \n",
    "        if ('<' + str(listOfPred[index]) +'> <'+str(listOfObj[index])+ '>') in AttrHistory:\n",
    "            return generateQuestion(listOfPred, listOfObj, listOfCompQ, index+1)\n",
    "\n",
    "        else:\n",
    "            AttrHistory.append('<' + str(listOfPred[index]['value']) +'> <'+str(listOfObj[index]['value'])+ '>')\n",
    "            \n",
    "        userAnswer = input(f'Does the thing you are looking for have the attribute: {listOfPred[index][\"value\"].split(\"/\")[-1]} {listOfObj[index][\"value\"].split(\"/\")[-1]}?' )\n",
    "    \n",
    "    if listOfCompQ[index]['value'] == 'true':  \n",
    "        if ('<' + str(listOfPred[index]) +'> [<http://www.w3.org/1999/02/22-rdf-syntax-ns#type> <'+str(listOfObj[index])+ '>]') in AttrHistory:\n",
    "            return generateQuestion(listOfPred, listOfObj, listOfCompQ, index+1)\n",
    "\n",
    "        else:\n",
    "            AttrHistory.append('<' + str(listOfPred[index]['value']) +'> [<http://www.w3.org/1999/02/22-rdf-syntax-ns#type> <'+ str(listOfObj[index]['value']) + '>]')\n",
    "    \n",
    "        userAnswer = input(f'Does the thing you are looking for have the attribute: {listOfPred[index][\"value\"].split(\"/\")[-1]} of type {listOfObj[index][\"value\"].split(\"/\")[-1]}?' )\n",
    "    \n",
    "    \n",
    "    try:\n",
    "        int(listOfObj[index]['value'][0])\n",
    "    except ValueError:\n",
    "           flag = False\n",
    "    \n",
    "    \n",
    "    if userAnswer.startswith('y'):   \n",
    "        if flag is True:\n",
    "            datatype = listOfObj[index][\"datatype\"].split(\"#\")[-1]\n",
    "            \n",
    "            if listOfCompQ[index]['value'] == 'false':\n",
    "                PosAttr.append('?s <' + str(listOfPred[index][\"value\"]) + '> \"'+str(listOfObj[index][\"value\"])+'\"^^xsd:'+datatype+'.') \n",
    "            elif listOfCompQ[index]['value'] == 'true':\n",
    "                PosAttr.append('?s <' + str(listOfPred[index][\"value\"]) + '> [<http://www.w3.org/1999/02/22-rdf-syntax-ns#type> \"' + str(listOfObj[index][\"value\"]) + '\"^^xsd:'+datatype+'].') \n",
    "        \n",
    "        else:\n",
    "            if listOfCompQ[index]['value'] == 'false':\n",
    "                PosAttr.append('?s <' + str(listOfPred[index][\"value\"]) +'> <'+str(listOfObj[index][\"value\"])+ '>.')\n",
    "            elif listOfCompQ[index]['value'] == 'true':\n",
    "                PosAttr.append('?s <' + str(listOfPred[index][\"value\"]) +'> [<http://www.w3.org/1999/02/22-rdf-syntax-ns#type> <'+str(listOfObj[index][\"value\"])+ '>].')\n",
    "        \n",
    "        \n",
    "    elif userAnswer.startswith('n'):\n",
    "        if flag is True:\n",
    "            datatype = listOfObj[index][\"datatype\"].split(\"#\")[-1]\n",
    "            \n",
    "            if listOfCompQ[index]['value'] == 'false':\n",
    "                NegAttr.append('FILTER NOT EXISTS {{ \\n ?s <' + str(listOfPred[index][\"value\"]) +'> \"'+str(listOfObj[index][\"value\"])+'\"^^xsd:'+datatype+'. }}')\n",
    "            elif listOfCompQ[index]['value'] == 'true':\n",
    "                NegAttr.append('FILTER NOT EXISTS {{ \\n ?s <' + str(listOfPred[index][\"value\"]) +'> [<http://www.w3.org/1999/02/22-rdf-syntax-ns#type> \"'+str(listOfObj[index][\"value\"])+'\"^^xsd:'+datatype+']. }}')\n",
    "        \n",
    "        else:\n",
    "            if listOfCompQ[index]['value'] == 'false':\n",
    "                NegAttr.append('FILTER NOT EXISTS {{ \\n ?s <' + str(listOfPred[index][\"value\"]) +'> <'+str(listOfObj[index][\"value\"])+ '>. }}')   \n",
    "            elif listOfCompQ[index]['value'] == 'true':\n",
    "                NegAttr.append('FILTER NOT EXISTS {{ \\n ?s <' + str(listOfPred[index][\"value\"]) +'> [<http://www.w3.org/1999/02/22-rdf-syntax-ns#type> <'+str(listOfObj[index][\"value\"])+ '>]. }}')   \n",
    "     \n",
    "    else:\n",
    "        return generateQuestion(listOfPred, listOfObj, listOfCompQ, index+1)\n",
    "                        \n",
    "    NegFilters = \"\\n\".join(NegAttr)\n",
    "    PosFilters = \"\\n\".join(PosAttr)\n",
    "    return (PosFilters, NegFilters)\n",
    "  "
   ]
  },
  {
   "cell_type": "code",
   "execution_count": 4,
   "metadata": {},
   "outputs": [],
   "source": [
    "def updateQuery(left, PosFilters, NegFilters):\n",
    "    FilterQuestion =  (f\"\"\"\n",
    "        SELECT (count(distinct ?s) as ?count) ?p ?o ?isCompound WHERE {{\n",
    "        {PosFilters}\n",
    "        {{?s ?p [<http://www.w3.org/1999/02/22-rdf-syntax-ns#type> ?o] . BIND (true as ?isCompound) }} UNION {{?s ?p ?o . BIND (false as ?isCompound) }}\n",
    "        {NegFilters}\n",
    "        filter (?o != <http://www.w3.org/2002/07/owl#Class>)\n",
    "        filter (?o != <http://example.com/popularEntity> )\n",
    "        }}\n",
    "        group by ?p ?o ?isCompound\n",
    "        order by abs({left} - ?count )\n",
    "        limit 5            \n",
    "        \"\"\") \n",
    "    return FilterQuestion"
   ]
  },
  {
   "cell_type": "code",
   "execution_count": 5,
   "metadata": {},
   "outputs": [],
   "source": [
    "def numberleft(PosFilters,NegFilters):\n",
    "    query =  f\"\"\"\n",
    "            select (count(distinct ?s) as ?count) where \n",
    "            {{\n",
    "            {PosFilters}            \n",
    "            ?s <http://www.w3.org/1999/02/22-rdf-syntax-ns#type> <http://example.com/popularEntity> .\n",
    "            {NegFilters} \n",
    "            }}       \n",
    "            group by ?p ?o \n",
    "            ORDER BY DESC(?count )            \n",
    "            \"\"\" \n",
    "    sparql.setQuery(query)\n",
    "    sparql.setReturnFormat(JSON)\n",
    "    qres = sparql.query().convert() \n",
    "    for r in qres[\"results\"][\"bindings\"]:\n",
    "        left= (r[\"count\"][\"value\"])\n",
    "        return(int(left))"
   ]
  },
  {
   "cell_type": "code",
   "execution_count": 6,
   "metadata": {},
   "outputs": [],
   "source": [
    "def popentities(PosFilters,NegFilters):\n",
    "    query =  f\"\"\"\n",
    "            select ?s where \n",
    "            {{\n",
    "            \n",
    "            {PosFilters}\n",
    "            ?s <http://www.w3.org/1999/02/22-rdf-syntax-ns#type> <http://example.com/popularEntity> .\n",
    "            {NegFilters} \n",
    "            \n",
    "            }}\n",
    "            \n",
    "            \"\"\" \n",
    "    sparql.setQuery(query)\n",
    "    sparql.setReturnFormat(JSON)\n",
    "    qres = sparql.query().convert() \n",
    "    return qres[\"results\"][\"bindings\"]"
   ]
  },
  {
   "cell_type": "code",
   "execution_count": 7,
   "metadata": {},
   "outputs": [],
   "source": [
    "# resets all variables\n",
    "def game_reset():\n",
    "    PosAttr= ['?s <http://www.w3.org/1999/02/22-rdf-syntax-ns#type> <http://example.com/popularEntity> .']\n",
    "    NegAttr= ['']\n",
    "    AttrHistory = ['<http://www.w3.org/1999/02/22-rdf-syntax-ns#type> <http://example.com/popularEntity>']\n",
    "    left = numberleft(\"\".join(PosAttr), \"\".join(NegAttr))\n",
    "    FilterQuestion =  f\"\"\"\n",
    "        SELECT (count(distinct ?s) as ?count) ?p ?o ?isCompound WHERE {{\n",
    "        {{?s ?p [<http://www.w3.org/1999/02/22-rdf-syntax-ns#type> ?o] . BIND (true as ?isCompound) }} UNION {{?s ?p ?o . BIND (false as ?isCompound) }}\n",
    "        ?s a <http://example.com/popularEntity> .\n",
    "        filter (?o != <http://www.w3.org/2002/07/owl#Class>)\n",
    "        filter (?o != <http://example.com/popularEntity> )\n",
    "        }}\n",
    "        group by ?p ?o ?isCompound\n",
    "        order by abs( %s - ?count )\n",
    "        limit 5\n",
    "        \"\"\" %((left/2))\n",
    "    sparql.setQuery(FilterQuestion)\n",
    "    sparql.setReturnFormat(JSON)\n",
    "    qres = sparql.query().convert()\n",
    "    listOfObj ,listOfPred, listOfCompQ = extractCountAndAttr(qres)\n",
    "    return (left, qres, PosAttr, NegAttr, AttrHistory)"
   ]
  },
  {
   "cell_type": "code",
   "execution_count": 9,
   "metadata": {},
   "outputs": [
    {
     "name": "stdout",
     "output_type": "stream",
     "text": [
      "Question 1:\n"
     ]
    },
    {
     "name": "stdin",
     "output_type": "stream",
     "text": [
      "Does the thing you are looking for have the attribute: 22-rdf-syntax-ns#type Person? y\n"
     ]
    },
    {
     "name": "stdout",
     "output_type": "stream",
     "text": [
      "Question 2:\n"
     ]
    },
    {
     "name": "stdin",
     "output_type": "stream",
     "text": [
      "Does the thing you are looking for have the attribute: knowsLanguage English_language? no\n"
     ]
    },
    {
     "name": "stdout",
     "output_type": "stream",
     "text": [
      "Question 3:\n"
     ]
    },
    {
     "name": "stdin",
     "output_type": "stream",
     "text": [
      "Does the thing you are looking for have the attribute: alumniOf of type Place? y\n"
     ]
    },
    {
     "name": "stdout",
     "output_type": "stream",
     "text": [
      "Question 4:\n"
     ]
    },
    {
     "name": "stdin",
     "output_type": "stream",
     "text": [
      "Does the thing you are looking for have the attribute: hasOccupation Actor? no\n"
     ]
    },
    {
     "name": "stdout",
     "output_type": "stream",
     "text": [
      "Question 5:\n"
     ]
    },
    {
     "name": "stdin",
     "output_type": "stream",
     "text": [
      "Does the thing you are looking for have the attribute: alumniOf of type School? i\n",
      "Does the thing you are looking for have the attribute: award of type Thing? y\n"
     ]
    },
    {
     "name": "stdout",
     "output_type": "stream",
     "text": [
      "Question 6:\n"
     ]
    },
    {
     "name": "stdin",
     "output_type": "stream",
     "text": [
      "Does the thing you are looking for have the attribute: alumniOf of type School? i\n",
      "Does the thing you are looking for have the attribute: deathPlace of type Place? y\n"
     ]
    },
    {
     "name": "stdout",
     "output_type": "stream",
     "text": [
      "Question 7:\n"
     ]
    },
    {
     "name": "stdin",
     "output_type": "stream",
     "text": [
      "Does the thing you are looking for have the attribute: alumniOf of type School? i\n",
      "Does the thing you are looking for have the attribute: spouse of type Human? y\n"
     ]
    },
    {
     "name": "stdout",
     "output_type": "stream",
     "text": [
      "Question 8:\n"
     ]
    },
    {
     "name": "stdin",
     "output_type": "stream",
     "text": [
      "Does the thing you are looking for have the attribute: memberOf of type NGO? no\n"
     ]
    },
    {
     "name": "stdout",
     "output_type": "stream",
     "text": [
      "Question 9:\n"
     ]
    },
    {
     "name": "stdin",
     "output_type": "stream",
     "text": [
      "Does the thing you are looking for have the attribute: birthPlace of type Corporation? no\n"
     ]
    },
    {
     "name": "stdout",
     "output_type": "stream",
     "text": [
      "Question 10:\n"
     ]
    },
    {
     "name": "stdin",
     "output_type": "stream",
     "text": [
      "Does the thing you are looking for have the attribute: award of type Award? yes\n"
     ]
    },
    {
     "name": "stdout",
     "output_type": "stream",
     "text": [
      "Question 11:\n"
     ]
    },
    {
     "name": "stdin",
     "output_type": "stream",
     "text": [
      "Does the thing you are looking for have the attribute: award of type CreativeWork? no\n"
     ]
    },
    {
     "name": "stdout",
     "output_type": "stream",
     "text": [
      "Question 12:\n"
     ]
    },
    {
     "name": "stdin",
     "output_type": "stream",
     "text": [
      "Does the thing you are looking for have the attribute: award of type Golden_Globe_Awards? no\n"
     ]
    },
    {
     "name": "stdout",
     "output_type": "stream",
     "text": [
      "Question 13:\n"
     ]
    },
    {
     "name": "stdin",
     "output_type": "stream",
     "text": [
      "Does the thing you are looking for have the attribute: award of type AACTA_Awards? no\n"
     ]
    },
    {
     "name": "stdout",
     "output_type": "stream",
     "text": [
      "Your Answer is: Basil_Rathbone\n",
      "Your Answer is: Basil_Rathbone\n",
      "Your Answer is: Basil_Rathbone\n",
      "Your Answer is: Basil_Rathbone\n"
     ]
    }
   ],
   "source": [
    "#without printing results\n",
    "import random\n",
    "\n",
    "left,qres,PosAttr,NegAttr,AttrHistory = game_reset()\n",
    "i=0\n",
    "outofguess = []\n",
    "\n",
    "while i < 20:\n",
    "\n",
    "    # list of Pred and Obj for questions\n",
    "    listOfObj ,listOfPred, listOfCompQ = extractCountAndAttr(qres)\n",
    "\n",
    "    # if only 1 popular entity is left break\n",
    "    if left<=1:\n",
    "        break\n",
    "\n",
    "    # ask question and add filters to query\n",
    "    print('Question %s' %(i+1) + ':')\n",
    "    PosFilters, NegFilters = generateQuestion(listOfPred, listOfObj, listOfCompQ, 0)\n",
    "\n",
    "    # number of popular entities left\n",
    "    left = numberleft(PosFilters, NegFilters)\n",
    "\n",
    "    # run query\n",
    "    query = updateQuery(left/2,PosFilters, NegFilters)\n",
    "    sparql.setQuery(query)\n",
    "    qres = sparql.queryAndConvert()\n",
    "\n",
    "    i+=1\n",
    "\n",
    "# Prints answer\n",
    "if i != 20:\n",
    "    for attr in popentities(PosFilters, NegFilters):\n",
    "        print(*[f'Your Answer is: {x.split(\"/\")[-1]}' for x in [attr['s']['value']]][0:10]) \n",
    "\n",
    "        \n",
    "# ran out of questions\n",
    "else:\n",
    "    print('Final Question:')\n",
    "    for j in popentities(PosFilters, NegFilters):\n",
    "            outofguess.append(f'{j[0].split(\"/\")[-1][:40]:40s}')\n",
    "    guess = random.choice(outofguess)\n",
    "    print(\"Your answer is: \" + guess)"
   ]
  }
 ],
 "metadata": {
  "kernelspec": {
   "display_name": "Python 3 (ipykernel)",
   "language": "python",
   "name": "python3"
  },
  "language_info": {
   "codemirror_mode": {
    "name": "ipython",
    "version": 3
   },
   "file_extension": ".py",
   "mimetype": "text/x-python",
   "name": "python",
   "nbconvert_exporter": "python",
   "pygments_lexer": "ipython3",
   "version": "3.9.12"
  }
 },
 "nbformat": 4,
 "nbformat_minor": 4
}
