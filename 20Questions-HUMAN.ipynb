{
 "cells": [
  {
   "cell_type": "markdown",
   "metadata": {},
   "source": [
    "## Code"
   ]
  },
  {
   "cell_type": "code",
   "execution_count": 9,
   "metadata": {},
   "outputs": [
    {
     "name": "stdout",
     "output_type": "stream",
     "text": [
      "The ipython_sparql_pandas extension is already loaded. To reload it, use:\n",
      "  %reload_ext ipython_sparql_pandas\n"
     ]
    }
   ],
   "source": [
    "%load_ext ipython_sparql_pandas"
   ]
  },
  {
   "cell_type": "code",
   "execution_count": 10,
   "metadata": {},
   "outputs": [],
   "source": [
    "from SPARQLWrapper import SPARQLWrapper, JSON\n",
    "sparql = SPARQLWrapper('http://MacBook-Air-van-Daphne.local:7200/repositories/statements')\n",
    "sparql.setReturnFormat(JSON)"
   ]
  },
  {
   "cell_type": "code",
   "execution_count": 11,
   "metadata": {},
   "outputs": [],
   "source": [
    "#from the query results extract a list that contains the counts after splitting on certain attributes\n",
    "import re\n",
    "PosAttr=['?s <http://www.w3.org/1999/02/22-rdf-syntax-ns#type> <http://example.com/popularEntity> .']\n",
    "NegAttr=[]\n",
    "AttrHistory = ['<http://www.w3.org/1999/02/22-rdf-syntax-ns#type> <http://example.com/popularEntity>']\n",
    "def extractCountAndAttr(result):\n",
    "    number = []\n",
    "    listOfObj = []\n",
    "    listOfPred= []\n",
    "    #ret = result.queryAndConvert()\n",
    "    for attr in result[\"results\"][\"bindings\"]:\n",
    "        listOfObj.append(attr['o'])\n",
    "        listOfPred.append(attr['p'])\n",
    "    #print(listOfObj[0])\n",
    "    return(listOfObj,listOfPred)\n",
    "\n",
    "def generateQuestion(listOfPred, listOfObj, index):\n",
    "    flag = True\n",
    "    if ('<' + str(listOfPred[index]) +'> <'+str(listOfObj[index])+ '>') in AttrHistory:\n",
    "        return generateQuestion(listOfPred, listOfObj, index+1)\n",
    "        \n",
    "    else:\n",
    "        AttrHistory.append('<' + str(listOfPred[index]['value']) +'> <'+str(listOfObj[index]['value'])+ '>')\n",
    "    \n",
    "    userAnswer = input(f'Does the thing you are looking for have the attribute: {listOfPred[index][\"value\"].split(\"/\")[-1]} {listOfObj[index][\"value\"].split(\"/\")[-1]}?' )\n",
    "    \n",
    "    try:\n",
    "        int(listOfObj[index]['value'][0])\n",
    "    except ValueError:\n",
    "           flag = False\n",
    "            \n",
    "    if userAnswer.startswith('y'):\n",
    "        if flag is True:\n",
    "            datatype = listOfObj[index][\"datatype\"].split(\"#\")[-1]\n",
    "            PosAttr.append('?s <' + str(listOfPred[index][\"value\"]) +'> \"'+str(listOfObj[index][\"value\"])+'\"^^xsd:'+datatype+'.') \n",
    "        else:\n",
    "            PosAttr.append('?s <' + str(listOfPred[index][\"value\"]) +'> <'+str(listOfObj[index][\"value\"])+ '>.')    \n",
    "        \n",
    "    elif userAnswer.startswith('n'):\n",
    "        if flag is True:\n",
    "            datatype = listOfObj[index][\"datatype\"].split(\"#\")[-1]\n",
    "            NegAttr.append('FILTER NOT EXISTS {{ \\n ?s <' + str(listOfPred[index][\"value\"]) +'> \"'+str(listOfObj[index][\"value\"])+'\"^^xsd:'+datatype+'. }}')\n",
    "        else:\n",
    "            NegAttr.append('FILTER NOT EXISTS {{ \\n ?s <' + str(listOfPred[index][\"value\"]) +'> <'+str(listOfObj[index][\"value\"])+ '>. }}')   \n",
    "        \n",
    "    else:\n",
    "        return generateQuestion(listOfPred, listOfObj, index+1)\n",
    "    \n",
    "    NegFilters = \"\\n\".join(NegAttr)\n",
    "    PosFilters = \"\\n\".join(PosAttr)\n",
    "    return (PosFilters, NegFilters)"
   ]
  },
  {
   "cell_type": "code",
   "execution_count": 12,
   "metadata": {},
   "outputs": [],
   "source": [
    " def updateQuery(left, PosFilters, NegFilters):\n",
    "    FilterQuestion =  (f\"\"\"\n",
    "            select (count(*) as ?count) ?p ?o  where \n",
    "            {{\n",
    "            \n",
    "            {PosFilters}\n",
    "             ?s ?p ?o .\n",
    "            {NegFilters}\n",
    "            }} \n",
    "            \n",
    "            group by ?p ?o \n",
    "            ORDER BY ABS( {left} - ?count )\n",
    "            Limit 5\n",
    "            \"\"\") \n",
    "        \n",
    "    return FilterQuestion"
   ]
  },
  {
   "cell_type": "code",
   "execution_count": 13,
   "metadata": {},
   "outputs": [],
   "source": [
    "def numberleft(PosFilters,NegFilters):\n",
    "    query =  f\"\"\"\n",
    "            select (count(?s) as ?count) where \n",
    "            {{\n",
    "            {PosFilters}            \n",
    "            ?s <http://www.w3.org/1999/02/22-rdf-syntax-ns#type> <http://example.com/popularEntity> .\n",
    "            {NegFilters} \n",
    "          }}       \n",
    "            group by ?p ?o \n",
    "            ORDER BY DESC(?count )            \n",
    "            \n",
    "            \"\"\" \n",
    "    sparql.setQuery(query)\n",
    "    sparql.setReturnFormat(JSON)\n",
    "    qres = sparql.query().convert() \n",
    "    for r in qres[\"results\"][\"bindings\"]:\n",
    "        left= (r[\"count\"][\"value\"])\n",
    "        return(int(left))"
   ]
  },
  {
   "cell_type": "code",
   "execution_count": 14,
   "metadata": {},
   "outputs": [],
   "source": [
    "def popentities(PosFilters,NegFilters):\n",
    "    query =  f\"\"\"\n",
    "            select ?s where \n",
    "            {{\n",
    "            \n",
    "            {PosFilters}\n",
    "            ?s <http://www.w3.org/1999/02/22-rdf-syntax-ns#type> <http://example.com/popularEntity> .\n",
    "            {NegFilters} \n",
    "            \n",
    "            }}\n",
    "            \n",
    "            \"\"\" \n",
    "    sparql.setQuery(query)\n",
    "    sparql.setReturnFormat(JSON)\n",
    "    qres = sparql.query().convert() \n",
    "    return qres[\"results\"][\"bindings\"]"
   ]
  },
  {
   "cell_type": "code",
   "execution_count": 15,
   "metadata": {},
   "outputs": [],
   "source": [
    "# resets are variables\n",
    "def game_reset():\n",
    "    PosAttr= ['?s <http://www.w3.org/1999/02/22-rdf-syntax-ns#type> <http://example.com/popularEntity> .']\n",
    "    NegAttr= ['']\n",
    "    AttrHistory = ['<http://www.w3.org/1999/02/22-rdf-syntax-ns#type> <http://example.com/popularEntity>']\n",
    "    left = numberleft(\"\".join(PosAttr), \"\".join(NegAttr))\n",
    "    FilterQuestion =  f\"\"\"\n",
    "        select (count(*) as ?count) ?p ?o  where \n",
    "        {{\n",
    "        ?s <http://www.w3.org/1999/02/22-rdf-syntax-ns#type> <http://example.com/popularEntity> .\n",
    "        ?s ?p ?o .\n",
    "        }} \n",
    "        group by ?p ?o \n",
    "        ORDER BY ABS( %s - ?count )\n",
    "        limit 5\n",
    "        \"\"\" %((left/2))\n",
    "    sparql.setQuery(FilterQuestion)\n",
    "    sparql.setReturnFormat(JSON)\n",
    "    qres = sparql.query().convert()\n",
    "    listOfObj ,listOfPred = extractCountAndAttr(qres)\n",
    "    return (left, qres, PosAttr, NegAttr, AttrHistory)"
   ]
  },
  {
   "cell_type": "code",
   "execution_count": 17,
   "metadata": {},
   "outputs": [
    {
     "name": "stdout",
     "output_type": "stream",
     "text": [
      "Question 1:\n"
     ]
    },
    {
     "name": "stdin",
     "output_type": "stream",
     "text": [
      "Does the thing you are looking for have the attribute: 22-rdf-syntax-ns#type Person? yes\n"
     ]
    },
    {
     "name": "stdout",
     "output_type": "stream",
     "text": [
      "Question 2:\n"
     ]
    },
    {
     "name": "stdin",
     "output_type": "stream",
     "text": [
      "Does the thing you are looking for have the attribute: knowsLanguage English_language? no\n"
     ]
    },
    {
     "name": "stdout",
     "output_type": "stream",
     "text": [
      "Question 3:\n"
     ]
    },
    {
     "name": "stdin",
     "output_type": "stream",
     "text": [
      "Does the thing you are looking for have the attribute: hasOccupation Actor? no\n"
     ]
    },
    {
     "name": "stdout",
     "output_type": "stream",
     "text": [
      "Question 4:\n"
     ]
    },
    {
     "name": "stdin",
     "output_type": "stream",
     "text": [
      "Does the thing you are looking for have the attribute: nationality United_States? no\n"
     ]
    },
    {
     "name": "stdout",
     "output_type": "stream",
     "text": [
      "Question 5:\n"
     ]
    },
    {
     "name": "stdin",
     "output_type": "stream",
     "text": [
      "Does the thing you are looking for have the attribute: nationality United_Kingdom? no\n"
     ]
    },
    {
     "name": "stdout",
     "output_type": "stream",
     "text": [
      "Question 6:\n"
     ]
    },
    {
     "name": "stdin",
     "output_type": "stream",
     "text": [
      "Does the thing you are looking for have the attribute: hasOccupation Film_producer? no\n"
     ]
    },
    {
     "name": "stdout",
     "output_type": "stream",
     "text": [
      "Question 7:\n"
     ]
    },
    {
     "name": "stdin",
     "output_type": "stream",
     "text": [
      "Does the thing you are looking for have the attribute: hasOccupation Football_player? no\n"
     ]
    },
    {
     "name": "stdout",
     "output_type": "stream",
     "text": [
      "Question 8:\n"
     ]
    },
    {
     "name": "stdin",
     "output_type": "stream",
     "text": [
      "Does the thing you are looking for have the attribute: hasOccupation Writer? no\n"
     ]
    },
    {
     "name": "stdout",
     "output_type": "stream",
     "text": [
      "Question 9:\n"
     ]
    },
    {
     "name": "stdin",
     "output_type": "stream",
     "text": [
      "Does the thing you are looking for have the attribute: nationality India? no\n"
     ]
    },
    {
     "name": "stdout",
     "output_type": "stream",
     "text": [
      "Question 10:\n"
     ]
    },
    {
     "name": "stdin",
     "output_type": "stream",
     "text": [
      "Does the thing you are looking for have the attribute: knowsLanguage German_language? yes\n"
     ]
    },
    {
     "name": "stdout",
     "output_type": "stream",
     "text": [
      "Question 11:\n"
     ]
    },
    {
     "name": "stdin",
     "output_type": "stream",
     "text": [
      "Does the thing you are looking for have the attribute: nationality Germany? yes\n"
     ]
    },
    {
     "name": "stdout",
     "output_type": "stream",
     "text": [
      "Question 12:\n"
     ]
    },
    {
     "name": "stdin",
     "output_type": "stream",
     "text": [
      "Does the thing you are looking for have the attribute: hasOccupation Pianist? no\n"
     ]
    },
    {
     "name": "stdout",
     "output_type": "stream",
     "text": [
      "Question 13:\n"
     ]
    },
    {
     "name": "stdin",
     "output_type": "stream",
     "text": [
      "Does the thing you are looking for have the attribute: hasOccupation Film_director? no\n"
     ]
    },
    {
     "name": "stdout",
     "output_type": "stream",
     "text": [
      "Question 14:\n"
     ]
    },
    {
     "name": "stdin",
     "output_type": "stream",
     "text": [
      "Does the thing you are looking for have the attribute: hasOccupation Philosopher? no\n"
     ]
    },
    {
     "name": "stdout",
     "output_type": "stream",
     "text": [
      "Question 15:\n"
     ]
    },
    {
     "name": "stdin",
     "output_type": "stream",
     "text": [
      "Does the thing you are looking for have the attribute: parent Klaus_Kinski? no\n"
     ]
    },
    {
     "name": "stdout",
     "output_type": "stream",
     "text": [
      "Your Answer is: Erich_Ludendorff\n"
     ]
    }
   ],
   "source": [
    "#without printing results\n",
    "import random\n",
    "\n",
    "# Resets all variables\n",
    "left,qres,PosAttr,NegAttr,AttrHistory = game_reset()\n",
    "i=0\n",
    "outofguess = []\n",
    "\n",
    "while i < 20:\n",
    "   \n",
    "    # list of Pred and Obj for questions\n",
    "    listOfObj ,listOfPred = extractCountAndAttr(qres)\n",
    "    \n",
    "    # if only 1 popular entity is left break\n",
    "    if left<=1:\n",
    "        break\n",
    "    \n",
    "    # ask question and add filters to query\n",
    "    print('Question %s' %(i+1) + ':')\n",
    "    PosFilters, NegFilters = generateQuestion(listOfPred, listOfObj, 0)\n",
    "    \n",
    "    # number of popular entities left\n",
    "    left = numberleft(PosFilters, NegFilters)\n",
    "    \n",
    "    # run query\n",
    "    query = updateQuery(left/2,PosFilters, NegFilters)\n",
    "    sparql.setQuery(query)\n",
    "    qres = sparql.queryAndConvert()\n",
    "    \n",
    "    i+=1\n",
    "\n",
    "# Prints answer\n",
    "if i != 20:\n",
    "    for attr in popentities(PosFilters, NegFilters):\n",
    "        print(*[f'Your Answer is: {x.split(\"/\")[-1]}' for x in [attr['s']['value']]][0:10]) \n",
    "\n",
    "# ran out of questions\n",
    "else:\n",
    "    print('Final Question:')\n",
    "    for j in popentities(PosFilters, NegFilters):\n",
    "            outofguess.append(f'{j[0].split(\"/\")[-1][:40]:40s}')\n",
    "    guess = random.choice(outofguess)\n",
    "    print(\"Your answer is: \" + guess)"
   ]
  }
 ],
 "metadata": {
  "kernelspec": {
   "display_name": "Python 3 (ipykernel)",
   "language": "python",
   "name": "python3"
  },
  "language_info": {
   "codemirror_mode": {
    "name": "ipython",
    "version": 3
   },
   "file_extension": ".py",
   "mimetype": "text/x-python",
   "name": "python",
   "nbconvert_exporter": "python",
   "pygments_lexer": "ipython3",
   "version": "3.9.12"
  }
 },
 "nbformat": 4,
 "nbformat_minor": 4
}
